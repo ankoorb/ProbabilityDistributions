{
 "metadata": {
  "name": "",
  "signature": "sha256:4434844d5996e4223e9b7b5ad1e488065c255e2251999667db5277242031026e"
 },
 "nbformat": 3,
 "nbformat_minor": 0,
 "worksheets": [
  {
   "cells": [
    {
     "cell_type": "code",
     "collapsed": false,
     "input": [
      "# special IPython command to prepare the notebook for matplotlib\n",
      "%matplotlib inline \n",
      "\n",
      "import numpy as np\n",
      "import scipy as sp\n",
      "import seaborn as sns\n",
      "import matplotlib.pyplot as plt"
     ],
     "language": "python",
     "metadata": {},
     "outputs": [],
     "prompt_number": 1
    },
    {
     "cell_type": "markdown",
     "metadata": {},
     "source": [
      "### Lognormal Distribution_Discretized\n",
      "\n",
      "* Parameter Calculation for LogNormal Distribution"
     ]
    },
    {
     "cell_type": "code",
     "collapsed": false,
     "input": [
      "m = 30.0 # Make sure to have float values\n",
      "s = 10.0 # Make sure to have float values\n",
      "ln_mu = np.log(m/np.sqrt(1+((s**2)/(m**2))))\n",
      "ln_sigma = np.sqrt(np.log(1+((s**2)/(m**2))))\n",
      "print 'ln_mu = %1.3f' % ln_mu\n",
      "print 'ln_sigma = %1.3f' % ln_sigma"
     ],
     "language": "python",
     "metadata": {},
     "outputs": [
      {
       "output_type": "stream",
       "stream": "stdout",
       "text": [
        "ln_mu = 3.349\n",
        "ln_sigma = 0.325\n"
       ]
      }
     ],
     "prompt_number": 2
    },
    {
     "cell_type": "markdown",
     "metadata": {},
     "source": [
      "* LogNormal Distribution"
     ]
    },
    {
     "cell_type": "code",
     "collapsed": false,
     "input": [
      "low = 1\n",
      "high = 80\n",
      "\n",
      "dx = 2 # Length of interval\n",
      "\n",
      "# Comb points along x axis\n",
      "x = np.arange(low, high, dx)\n",
      "\n",
      "# Compute y values: pdf at each value of x using ln_mu and ln_sigma\n",
      "y = (1/(ln_sigma * x * np.sqrt(2 * np.pi))) * np.exp(-0.5 * ((np.log(x) - ln_mu)/ln_sigma) ** 2)\n",
      "\n",
      "# Plot the function\n",
      "plt.figure(figsize = (16, 8))\n",
      "plt.stem(x, y, markerfmt = ' ') # This draws the intervals\n",
      "plt.xlabel('$x$')\n",
      "plt.ylabel('$p(x)$')\n",
      "plt.title('Discretized Log-Normal Probability Distribution')\n",
      "\n",
      "area = np.sum(dx * y)\n",
      "print 'Probability Sum = %1.4f' % area"
     ],
     "language": "python",
     "metadata": {},
     "outputs": [
      {
       "output_type": "stream",
       "stream": "stdout",
       "text": [
        "Probability Sum = 0.9993\n"
       ]
      },
      {
       "metadata": {},
       "output_type": "display_data",
       "png": "[encoded data removed]",
       "text": [
        "<matplotlib.figure.Figure at 0x10a1d8910>"
       ]
      }
     ],
     "prompt_number": 3
    },
    {
     "cell_type": "code",
     "collapsed": false,
     "input": [],
     "language": "python",
     "metadata": {},
     "outputs": []
    }
   ],
   "metadata": {}
  }
 ]
}