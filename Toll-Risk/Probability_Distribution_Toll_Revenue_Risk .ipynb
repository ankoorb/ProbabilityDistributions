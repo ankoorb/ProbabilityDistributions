{
 "cells": [
  {
   "cell_type": "code",
   "execution_count": 1,
   "metadata": {
    "collapsed": false
   },
   "outputs": [],
   "source": [
    "# special IPython command to prepare the notebook for matplotlib\n",
    "%matplotlib inline \n",
    "\n",
    "import numpy as np\n",
    "import pandas as pd\n",
    "import scipy as sp\n",
    "import seaborn as sns\n",
    "import matplotlib.pyplot as plt"
   ]
  },
  {
   "cell_type": "markdown",
   "metadata": {},
   "source": [
    "**Estimating the probability distribution of a travel demand forecast** Authors: John L. Bowman, Dinesh Gopinath, and Moshe Ben-Akiva"
   ]
  },
  {
   "cell_type": "markdown",
   "metadata": {},
   "source": [
    "### <font color = 'blue'>Algorithm</font>\n",
    "\n",
    "\n",
    "1. **Identify variables that induce error in Toll Revenue prediction :** $x = (x_1, x_2, ...,x_k, ..., x_K)$\n",
    "    - Simple Toll Revenue Model - Variables that induce error in Toll Revenue Prediction $r^{(p)}$ are: (1) Value of Time, (2) Population, (3) Households, (4) Employment\n",
    "    - Let: $x_1$ = Value of Time, $x_2$ = Population, $x_3$ = Households, $x_4$ = Employment. Thus K = 4, i.e. 4-Dimensional space of possible outcomes $x_k$\n",
    "    - $x = (x_1, x_2, x_3, x_4)$\n",
    "    \n",
    "2. **Obtain probability distribution of $x_k$ for k = 1, 2, ..., K. Distribution can be based on: (a) Direct input or (b) Assumption, e.g. Triangular, Normal, etc.** For each dimension $k$ discretize an assumed probability distribution and identify a small set of discrete outcomes $x_k^{n_k}$, where $n_k$ = 1, 2, 3, ..., $N_k$ <font color = 'SeaGreen'>(assign probabilities $p(x_k^{n_k})$ to these discrete outcomes based on reasoning and empirical evidence to approximate $x_k$'s true distribution???)</font>:\n",
    "    - Let $N_1$ = 4, $N_2$ = 3, $N_3$ = 5, $N_4$ = 4 and $x_k$ = {$x_k^1, x_k^2, x_k^3, ..., x_k^{N_k}$}\n",
    "    - $x_1$ discrete outcomes = {$x_1^1, x_1^2, x_1^3, x_1^4$}, with $p(x_1^1) + p(x_1^2) + p(x_1^3) + p(x_1^4) = 1$\n",
    "    - $x_2$ discrete outcomes = {$x_2^1, x_2^2, x_2^3$}, with $p(x_2^1) + p(x_2^2) + p(x_2^3) = 1$\n",
    "    - $x_3$ discrete outcomes = {$x_3^1, x_3^2, x_3^3, x_3^4, x_3^5$}, with $p(x_3^1) + p(x_3^2) + p(x_3^3) + p(x_3^4) + p(x_3^5) = 1$\n",
    "    - $x_4$ discrete outcomes = {$x_4^1, x_4^2, x_4^3, x_4^4$}, with $p(x_4^1) + p(x_4^2) + p(x_4^3) + p(x_4^4) = 1$\n",
    "    \n",
    "3. **Develop Toll Revenue Model for Baseline Scenario :** - Get Predicted $r^{(p)}_{base}$ for Baseline Scenario $x = (x_1^{base}, x_2^{base}, x_3^{base}, x_4^{base})$ from output of the model\n",
    "    \n",
    "4. **Run Toll Revenue Model one time for each variable that induce error in prediction :** \n",
    "    - Get predicted $r^{(p)}_{k=1}$ based on $x = (x_1^{extreme}, x_2^{base}, x_3^{base}, x_4^{base})$\n",
    "    - Get predicted $r^{(p)}_{k=2}$ based on $x = (x_1^{base}, x_2^{extreme}, x_3^{base}, x_4^{base})$\n",
    "    - Get predicted $r^{(p)}_{k=3}$ based on $x = (x_1^{base}, x_2^{base}, x_3^{extreme}, x_4^{base})$\n",
    "    - Get predicted $r^{(p)}_{k=4}$ based on $x = (x_1^{'}, x_2^{'}, x_3^{'}, x_4^{''})$\n",
    "\n",
    "5. **Calculate change in Predicted Toll Revenue and variables that induce error in prediction :** \n",
    "    - $r_k^{change} = \\frac{r^{(p)}_{base} - r^{(p)}_{k}}{r^{(p)}_{k}}$, where k = 1, 2, 3, 4\n",
    "    - $x_k^{change} = \\frac{x^{base}_{1} - x^{''}_{k}}{x^{''}_{k}}$, where k = 1, 2, 3, 4 \n",
    "    \n",
    "6. **Calculate Elasticity of Toll Revenue with respect to variables that induce error in prediction :**\n",
    "    - $e_k^{r} = \\frac{r_k^{change}}{x_k^{change}}$, where k = 1, 2, 3, 4\n",
    "    \n",
    "7. **Define a set of scenarios: ** S = {$(x_1^{n_1}, ..., x_k^{n_k}, ..., x_K^{N_k}); n_k = 1, 2, 3, ..., N_k; k = 1, 2, ..., K$}, covering all combinations of the discrete coutcomes in all $K$ = 4 dimensions\n",
    "    - For simple example, S = {$(x_1^1, x_2^1, x_3^1, x_4^1), (x_1^1, x_2^1, x_3^1, x_4^2), ..., (x_1^1, x_2^3, x_3^5, x_4^4), ..., (x_1^4, x_2^3, x_3^5, x_4^4) $}\n",
    "    - Number of scenarios in S = $\\prod_{k = 1}^{K} N_k$. Thus the number of scenarios in simple example is S = 4 x 3 x 5 x 4 = 240. Thus s = 1, 2, 3, ..., 240\n",
    "    - Using s as a 1-Dimensional index of the member of S: Refer to a single member of S as $x^{(s)} = (x_1^{(s)}, x_2^{(s)}, ..., x_k^{(s)}, ..., x_K^{(s)})$. For simple example: $x^{(s = 1)} = (x_1^{1}, x_2^{1}, x_3^{1}, x_4^{1})$; $x^{(s = 2)} = (x_1^{1}, x_2^{1}, x_3^{1}, x_4^{2})$; $x^{(s = 240)} = (x_1^{4}, x_2^{3}, x_3^{5}, x_4^{4})$\n",
    "\n",
    "8. **Calculate the probability of each scenario: ** Error variables are mutually independent, thus the probability of each scenario is given by: <font color='blue'>$p(s) = \\prod_{k = 1}^{K} p(x_k^{(s)}), s \\in S$</font>, thus for simple example:\n",
    "    - $p(s = 1) = \\prod_{k = 1}^{4} p(x_k^{(s = 1)}) = p(x_1^{1}) p(x_2^{1}) p(x_3^{1}) p(x_4^{1})$\n",
    "    - $p(s = 2) = \\prod_{k = 1}^{4} p(x_k^{(s = 2)}) = p(x_1^{1}) p(x_2^{1}) p(x_3^{1}) p(x_4^{2})$\n",
    "    - $p(s = 240) = \\prod_{k = 1}^{4} p(x_k^{(s = 240)}) = p(x_1^{4}) p(x_2^{4}) p(x_3^{5}) p(x_4^{4})$\n",
    "\n",
    "9. **Calculate Toll Revenue for scenario s, <font color='blue'>$r^{(s)} = r^{(p)}_{base}\\prod_{k = 1}^{K}\\Big(\\frac{x_k^{(s)}}{x_k^{base}}\\Big)^{e_k^r}, s \\in S$</font>**, thus for simple example:\n",
    "    - $r^{(s = 1)} = r^{(p)}_{base}\\prod_{k = 1}^{4}\\Big(\\frac{x_k^{(s=1)}}{x_k^{base}}\\Big)^{e_k^r}$ = $r^{(p)}_{base}\\Big(\\frac{x_1^{1}}{x_1^{base}}\\Big)^{e_1^r}\\Big(\\frac{x_2^{1}}{x_2^{base}}\\Big)^{e_2^r}\\Big(\\frac{x_3^{1}}{x_3^{base}}\\Big)^{e_3^r}\\Big(\\frac{x_4^{1}}{x_4^{base}}\\Big)^{e_4^r}$\n",
    "    - $r^{(s = 2)} = r^{(p)}_{base}\\prod_{k = 1}^{4}\\Big(\\frac{x_k^{(s=2)}}{x_k^{base}}\\Big)^{e_k^r}$ = $r^{(p)}_{base}\\Big(\\frac{x_1^{1}}{x_1^{base}}\\Big)^{e_1^r}\\Big(\\frac{x_2^{1}}{x_2^{base}}\\Big)^{e_2^r}\\Big(\\frac{x_3^{1}}{x_3^{base}}\\Big)^{e_3^r}\\Big(\\frac{x_4^{2}}{x_4^{base}}\\Big)^{e_4^r}$\n",
    "    - $r^{(s = 240)} = r^{(p)}_{base}\\prod_{k = 1}^{4}\\Big(\\frac{x_k^{(s=240)}}{x_k^{base}}\\Big)^{e_k^r}$ = $r^{(p)}_{base}\\Big(\\frac{x_1^{4}}{x_1^{base}}\\Big)^{e_1^r}\\Big(\\frac{x_2^{3}}{x_2^{base}}\\Big)^{e_2^r}\\Big(\\frac{x_3^{5}}{x_3^{base}}\\Big)^{e_3^r}\\Big(\\frac{x_4^{4}}{x_4^{base}}\\Big)^{e_4^r}$\n",
    "    \n",
    "10. **Using pairs $r^{(s)}$ and $p(s)$ Plot Revenue CDF**\n"
   ]
  },
  {
   "cell_type": "markdown",
   "metadata": {},
   "source": [
    "### <font color = 'blue'>Sources of Uncertainty - Toll (Kockleman)</font>\n",
    "\n",
    "\n",
    "- Estimates of trip generation  \n",
    "- Estimates of land development  \n",
    "- Models: Trip Generation, Trip Distribution, Mode Choice  \n",
    "- Toll-technology adoption rates  \n",
    "- Hetrogeneity in (VOT) Value of Time savings  \n",
    "- Network attributes - Traffic congestion (low-volume corridors have greater uncertanity in their forecasts)  \n",
    "- Uncertainty in land development patterns  \n",
    "- Demographic and employment projections  \n",
    "- Tolling design - shadow tolls (govt. pays the concessionaire an amount based n toll road use - similar to toll free) or user-paid tolls (drivers willingness to pay is more complex and difficult to understand - more forecasting risk)  \n",
    "- Tolling culture of a region, i.e. the degree to which tolls have been used in the past  \n",
    "- Travel demand model imperfections (Heterogenity of VOT is ignored, Variable tolls or HOT lanes that are free at certain hours)  \n",
    "- Competitive advantage - Toll on the only bridge vs toll on freeway - more options to route  \n",
    "- User attributes - toll facilities serving a small market segment of travelers allow more reliable forecasts vs hetrogenous populations  \n",
    "- Road location, configurations  \n",
    "- Demand variations over times of days and days of the year also affect forecast reliability  \n",
    "- Brian and Wilkins (2002) - poorly estimated VOTT's, economic downturns, mis-prediction of future land use patterns, lower than predicted time savings, added competition, lower than anticipated truck usage, high variability in traffic volumes  \n",
    "- Economic growth and related changes in income and employment  \n",
    "- Total Demand Model errors  \n",
    "- Model error in elasticity of demand\n",
    "- Value of time  \n",
    "- Errors in measurement of network times and costs  \n",
    "- Operating speed  \n",
    "- Roadway improvements "
   ]
  },
  {
   "cell_type": "markdown",
   "metadata": {},
   "source": [
    "# Texas North Tarrant Express Segment 3A  \n",
    "\n",
    "- Revenue and Transaction Forecast Year = 2035  \n",
    "\n",
    "**2035 Revenue and Transactions**   \n",
    "\n",
    "- Forecasted 2035 Annual Project Revenue (000's 2011 Dollars) = 99842 \n",
    "- Forecasted 2035 Daily Transactions = 63635 "
   ]
  },
  {
   "cell_type": "markdown",
   "metadata": {},
   "source": [
    "**<font color = 'green'>Truck VOT Calculations</font>**\n",
    "\n",
    "- SOV VOT - Lognormal distribution with mean = \\$18.59 and standard deviation = \\$7.4 ($\\mu$ = 2.849 and $\\sigma$ = 0.383)  \n",
    "- Coefficient of variation, $C_v^{sov} = \\frac{7.4}{18.59}$ = 0.398  \n",
    "- HHM Truck VOT: Mean = \\$36.48 and Standard deviation = \\$30.24  \n",
    "- AECOM Truck VOT: Mean = \\$60.76 and Standard deviation = \\$51.08  \n",
    "- $Average Truck VOT$ = $\\frac{HHM Truck VOT + AECOM  Truck VOT}{2}$ = \\$48.62  \n",
    "- Standard deviation of Average Truck VOT = $C_v^{sov} * Average Truck VOT$ = \\$19.35 ($\\mu$ = 3.811 and $\\sigma$ = 0.383, calculations below)  \n",
    "- $\\mu \\sigma$"
   ]
  },
  {
   "cell_type": "code",
   "execution_count": 2,
   "metadata": {
    "collapsed": false
   },
   "outputs": [
    {
     "name": "stdout",
     "output_type": "stream",
     "text": [
      "truck_ln_mu = 3.811\n",
      "truck_ln_sigma = 0.383\n"
     ]
    }
   ],
   "source": [
    "# Parameters for Truck Lognormal Distribution\n",
    "m = 48.62\n",
    "s = 19.35\n",
    "truck_ln_mu = np.log(m/np.sqrt(1+((s**2)/(m**2))))\n",
    "truck_ln_sigma = np.sqrt(np.log(1+((s**2)/(m**2))))\n",
    "print 'truck_ln_mu = %1.3f' % truck_ln_mu\n",
    "print 'truck_ln_sigma = %1.3f' % truck_ln_sigma"
   ]
  },
  {
   "cell_type": "markdown",
   "metadata": {},
   "source": [
    "> $r_{base}^{(p)}$ = 74754 (000's 2011 Dollars)\n",
    "\n",
    "**<font color = 'blue'>Variables: Sources of Uncertainty</font>**  \n",
    "\n",
    "- **Truck VOT: $x_1$**\n",
    "    - Elasticity of Revenue to Truck VOT = 0.994  \n",
    "    - $x_1^{base}$ = \\$60.76  \n",
    "    - Probability distribution: Lognormal with mean = \\$48.62 and std. dev = \\$19.35 ($\\mu$ = 3.811 and $\\sigma$ = 0.383)  \n",
    "- **Travel Demand: $x_2$**\n",
    "    - Elasticity of Revenue to Demand (Transactions as proxy) = 2.57  \n",
    "    - $x_2^{base}$ = 61056  \n",
    "    - Probability distribution: Normal with $\\mu$ = 58871.5 and $\\sigma$ = 2184.5  \n",
    "- **Car VOT Growth: $x_3$**  \n",
    "    - Elasticity of Revenue to Car VOT Growth = 0.19  \n",
    "    - $x_3^{base}$ = 2.1%  \n",
    "    - Probability distribution: Triangular with Min = 0.5%, Mean = 1.05%, and Max = 2.1%  \n",
    "- **Truck VOT Growth: $x_4$**  \n",
    "    - Elasticity of Revenue to Truck VOT Growth = 0.19  \n",
    "    - $x_4^{base}$ = 2.5%  \n",
    "    - Probability distribution: Triangular with Min = 0.5%, Mean = 1.25%, and Max = 2.5%  \n",
    "    \n",
    "      \n"
   ]
  },
  {
   "cell_type": "markdown",
   "metadata": {},
   "source": [
    "**Truck VOT Probability Distribution:** Lognormal"
   ]
  },
  {
   "cell_type": "code",
   "execution_count": 3,
   "metadata": {
    "collapsed": false
   },
   "outputs": [
    {
     "name": "stdout",
     "output_type": "stream",
     "text": [
      "Probability Sum = 0.9946\n",
      "N_1 = 60\n"
     ]
    },
    {
     "data": {
      "image/png": "[encoded data removed]",
      "text/plain": [
       "<matplotlib.figure.Figure at 0x10a192b50>"
      ]
     },
     "metadata": {},
     "output_type": "display_data"
    }
   ],
   "source": [
    "mu = 3.811\n",
    "sigma = 0.383 \n",
    "\n",
    "low = 1\n",
    "high = 120\n",
    "\n",
    "dx_1 = 2 # Length of interval\n",
    "\n",
    "# Comb points along x axis\n",
    "x_1 = np.arange(low, high, dx_1)\n",
    "\n",
    "# Compute y values: pdf at each value of x\n",
    "vot_y = (1/(sigma * x_1 * np.sqrt(2 * np.pi))) * np.exp(-0.5 * ((np.log(x_1) - mu)/sigma) ** 2)\n",
    "\n",
    "# Plot the function\n",
    "plt.figure(figsize = (16, 8))\n",
    "plt.stem(x_1, vot_y, markerfmt = ' ') # This draws the intervals\n",
    "plt.xlabel('$x_1$')\n",
    "plt.ylabel('$p(x_1)$')\n",
    "plt.title('Discretized Log-Normal Probability Density')\n",
    "\n",
    "area = np.sum(dx_1 * vot_y)\n",
    "print 'Probability Sum = %1.4f' % area\n",
    "print 'N_1 = %d' % len(x_1)\n",
    "\n",
    "temp1 = np.array([x_1, vot_y * dx_1])\n"
   ]
  },
  {
   "cell_type": "markdown",
   "metadata": {},
   "source": [
    "**Travel Demand Probability Distribution:** Normal"
   ]
  },
  {
   "cell_type": "code",
   "execution_count": 4,
   "metadata": {
    "collapsed": false
   },
   "outputs": [
    {
     "name": "stdout",
     "output_type": "stream",
     "text": [
      "Mean Transactions = 51860.5\n",
      "Std. Dev Transactions = 11774.5\n"
     ]
    }
   ],
   "source": [
    "# Mean Transactions = (2035 Transactions + 2018 Transactions)/2\n",
    "print 'Mean Transactions = %s' % ((63635+40086)/2.0)\n",
    "# Std Dev Transactions = (2035 Transactions - 2018 Transactions)/2\n",
    "print 'Std. Dev Transactions = %s' % ((63635-40086)/2.0)"
   ]
  },
  {
   "cell_type": "code",
   "execution_count": 5,
   "metadata": {
    "collapsed": false
   },
   "outputs": [
    {
     "name": "stdout",
     "output_type": "stream",
     "text": [
      "Probability Sum = 0.9978\n",
      "N_2 = 36\n"
     ]
    },
    {
     "data": {
      "image/png": "[encoded data removed]",
      "text/plain": [
       "<matplotlib.figure.Figure at 0x10a860190>"
      ]
     },
     "metadata": {},
     "output_type": "display_data"
    }
   ],
   "source": [
    "demand_mean = 51860.5\n",
    "demand_sd = 11774.5\n",
    "demand_low = demand_mean - 3 * demand_sd # low end of x axis\n",
    "demand_high = demand_mean + 3 * demand_sd # high end of x axis\n",
    "\n",
    "dx_2 = 2000 # Length of interval\n",
    "\n",
    "# Comb points along x axis\n",
    "x_2 = np.arange(demand_low, demand_high, dx_2)\n",
    "\n",
    "# Compute y values: pdf at each value of x\n",
    "demand_y = (1/(demand_sd * np.sqrt(2 * np.pi))) * np.exp(-0.5 * ((x_2 - demand_mean)/demand_sd) ** 2)\n",
    "\n",
    "# Plot the function\n",
    "plt.figure(figsize = (16, 8))\n",
    "plt.stem(x_2, demand_y, markerfmt = ' ') # This draws the intervals\n",
    "plt.xlabel('$Demand$')\n",
    "plt.ylabel('$p(Demand)$')\n",
    "plt.title('Discretized Normal Probability Density')\n",
    "\n",
    "area = np.sum(dx_2 * demand_y)\n",
    "print 'Probability Sum = %1.4f' % area\n",
    "print 'N_2 = %d' % len(x_2)"
   ]
  },
  {
   "cell_type": "markdown",
   "metadata": {},
   "source": [
    "**Car VOT Growth Probability Distribution:** Triangular"
   ]
  },
  {
   "cell_type": "code",
   "execution_count": 6,
   "metadata": {
    "collapsed": false
   },
   "outputs": [
    {
     "name": "stdout",
     "output_type": "stream",
     "text": [
      "20\n",
      "1.0\n"
     ]
    },
    {
     "data": {
      "image/png": "[encoded data removed]",
      "text/plain": [
       "<matplotlib.figure.Figure at 0x10a189f90>"
      ]
     },
     "metadata": {},
     "output_type": "display_data"
    }
   ],
   "source": [
    "min_growth_car = 0.004\n",
    "mean_growth_car = 0.0105\n",
    "max_growth_car = 0.022\n",
    "car_array = np.random.triangular(min_growth_car, mean_growth_car, max_growth_car, size = 100000)\n",
    "#plt.hist(car_array, bins = 10)\n",
    "\n",
    "car_val = np.histogram(car_array, bins = 20)\n",
    "car_y = [float(i)/np.sum(car_val[0]) for i in car_val[0]]\n",
    "\n",
    "# Binwidth issue\n",
    "x_car = car_val[1]\n",
    "x_3 = []\n",
    "for i in range(len(x_car) - 1):\n",
    "    temp = (x_car[i] + x_car[i+1])/2\n",
    "    x_3.append(temp)\n",
    "\n",
    "# Plot triangular distribution\n",
    "plt.figure(figsize = (16, 8))\n",
    "plt.stem(x_3, car_y, markerfmt = ' ') # This draws the intervals\n",
    "plt.xlabel('$Car Growth$')\n",
    "plt.ylabel('$p(Car Growth)$')\n",
    "plt.title('Discretized Triangular Probability Density')\n",
    "\n",
    "print len(x_3)\n",
    "print np.sum(car_y)"
   ]
  },
  {
   "cell_type": "markdown",
   "metadata": {},
   "source": [
    "**Truck VOT Growth Probability Distribution:** Triangular"
   ]
  },
  {
   "cell_type": "code",
   "execution_count": 7,
   "metadata": {
    "collapsed": false
   },
   "outputs": [
    {
     "name": "stdout",
     "output_type": "stream",
     "text": [
      "20\n",
      "1.0\n"
     ]
    },
    {
     "data": {
      "image/png": "[encoded data removed]",
      "text/plain": [
       "<matplotlib.figure.Figure at 0x10b0efb90>"
      ]
     },
     "metadata": {},
     "output_type": "display_data"
    }
   ],
   "source": [
    "min_growth_truck = 0.004\n",
    "mean_growth_truck = 0.0125\n",
    "max_growth_truck = 0.026\n",
    "truck_array = np.random.triangular(min_growth_truck, mean_growth_truck, max_growth_truck, size = 100000)\n",
    "#plt.hist(car_array, bins = 10)\n",
    "\n",
    "truck_val = np.histogram(truck_array, bins = 20)\n",
    "truck_y = [float(i)/np.sum(truck_val[0]) for i in truck_val[0]]\n",
    "\n",
    "# Binwidth issue\n",
    "x_truck = truck_val[1]\n",
    "x_4 = []\n",
    "for i in range(len(x_truck) - 1):\n",
    "    temp = (x_truck[i] + x_truck[i+1])/2\n",
    "    x_4.append(temp)\n",
    "\n",
    "# Plot triangular distribution\n",
    "plt.figure(figsize = (16, 8))\n",
    "plt.stem(x_4, truck_y, markerfmt = ' ') # This draws the intervals\n",
    "plt.xlabel('$Truck Growth$')\n",
    "plt.ylabel('$p(Truck Growth)$')\n",
    "plt.title('Discretized Triangular Probability Density')\n",
    "\n",
    "print len(x_4)\n",
    "print np.sum(truck_y)"
   ]
  },
  {
   "cell_type": "markdown",
   "metadata": {},
   "source": [
    "**Scenarios**"
   ]
  },
  {
   "cell_type": "code",
   "execution_count": 8,
   "metadata": {
    "collapsed": false
   },
   "outputs": [
    {
     "name": "stdout",
     "output_type": "stream",
     "text": [
      "[1, 16537.0, 0.0044605430879693462, 0.0045783845758000669]\n",
      "\n",
      "\n",
      "Number of Scenarios = 864000\n"
     ]
    }
   ],
   "source": [
    "S = [[i, j, k, l] for i in x_1 for j in x_2 for k in x_3 for l in x_4]\n",
    "print S[0]\n",
    "print '\\n'\n",
    "print 'Number of Scenarios = ' + str(len(S))"
   ]
  },
  {
   "cell_type": "markdown",
   "metadata": {},
   "source": [
    "**Probability and Revenue Calculations for Scenarios**"
   ]
  },
  {
   "cell_type": "code",
   "execution_count": 9,
   "metadata": {
    "collapsed": false
   },
   "outputs": [
    {
     "name": "stdout",
     "output_type": "stream",
     "text": [
      "Probability Sum = 0.9924\n"
     ]
    }
   ],
   "source": [
    "# Constants: Base Revenue\n",
    "rp_base = 99842\n",
    "\n",
    "# Constants: Base values of variables\n",
    "x_1b = 60.76\n",
    "x_2b = 63635\n",
    "x_3b = 0.021\n",
    "x_4b = 0.025\n",
    "\n",
    "# Constants: Elasticities of variables\n",
    "e_x1 = 0.994\n",
    "e_x2 = 2.57\n",
    "e_x3 = 0.19\n",
    "e_x4 = 0.19\n",
    "\n",
    "\n",
    "revenue_S = []\n",
    "prob_S = []\n",
    "\n",
    "for i in range(len(S)):\n",
    "    \n",
    "    # R(s) \n",
    "    temp_rev = rp_base * (S[i][0]/x_1b)**(e_x1) * (S[i][1]/x_2b)**(e_x2) * (S[i][2]/x_3b)**(e_x3) * (S[i][3]/x_4b)**(e_x4)\n",
    "    revenue_S.append(temp_rev)\n",
    "    \n",
    "    # Probability calculation:\n",
    "    \n",
    "    # Truck VOT\n",
    "    p_x1 = (1/(sigma * S[i][0] * np.sqrt(2 * np.pi))) * np.exp(-0.5 * ((np.log(S[i][0]) - mu)/sigma) ** 2) * dx_1\n",
    "    \n",
    "    # Demand\n",
    "    p_x2 = (1/(demand_sd * np.sqrt(2 * np.pi))) * np.exp(-0.5 * ((S[i][1] - demand_mean)/demand_sd) ** 2) * dx_2\n",
    "    \n",
    "    # Car VOT Growth\n",
    "    if S[i][2] in x_3:\n",
    "        cp = x_3.index(S[i][2])\n",
    "    p_x3 = car_y[cp]\n",
    "    \n",
    "    # Truck VOT Growth\n",
    "    if S[i][3] in x_4:\n",
    "        tp = x_4.index(S[i][3])\n",
    "    p_x4 = truck_y[tp]\n",
    "                                  \n",
    "    prob_S.append(p_x1 * p_x2 * p_x3 * p_x4)\n",
    "    \n",
    "print 'Probability Sum = %0.4f' % np.sum(prob_S)"
   ]
  },
  {
   "cell_type": "code",
   "execution_count": 10,
   "metadata": {
    "collapsed": false
   },
   "outputs": [],
   "source": [
    "# Sorting Result based on Revenue\n",
    "output = (np.array([revenue_S, prob_S])).T\n",
    "output = output[output[:, 0].argsort()]"
   ]
  },
  {
   "cell_type": "code",
   "execution_count": 11,
   "metadata": {
    "collapsed": false
   },
   "outputs": [
    {
     "name": "stdout",
     "output_type": "stream",
     "text": [
      "Probability Sum = 0.9924\n",
      "Demand std = 11774\n"
     ]
    },
    {
     "data": {
      "image/png": "[encoded data removed]",
      "text/plain": [
       "<matplotlib.figure.Figure at 0x10b056750>"
      ]
     },
     "metadata": {},
     "output_type": "display_data"
    }
   ],
   "source": [
    "# Plotting Cumulative Probability Distribution\n",
    "plt.figure(figsize = (16, 8))\n",
    "plt.plot(output[:,0], np.cumsum(output[:,1]), linewidth = 2) # Selecting array column: array[:, column]\n",
    "\n",
    "# Plotting Predicted Revenue\n",
    "plt.axvline(x = rp_base, color = 'r')\n",
    "plt.text(74754 + 500, 0.1, 'Predicted Revenue for 2035', fontsize = 16)\n",
    "\n",
    "# Remove Scientific Notation\n",
    "ax = plt.gca()\n",
    "ax.get_xaxis().get_major_formatter().set_scientific(False)\n",
    "\n",
    "plt.xlabel('$Revenue$', fontsize = 16)\n",
    "plt.ylabel('$p(Revenue)$', fontsize = 16)\n",
    "plt.title('Cumulative Probability Distribution - Revenue (000\\'s 2011 Dollars)', fontsize = 16)\n",
    "\n",
    "# Set tick label size\n",
    "plt.tick_params(axis = 'both', which = 'major', labelsize = 14)\n",
    "\n",
    "print 'Probability Sum = %0.4f' % np.sum(prob_S)\n",
    "print 'Demand std = %d' % demand_sd"
   ]
  },
  {
   "cell_type": "code",
   "execution_count": 12,
   "metadata": {
    "collapsed": false
   },
   "outputs": [
    {
     "name": "stdout",
     "output_type": "stream",
     "text": [
      "75th Percentile of 2035 Revenue = 54197.15\n",
      "85th Percentile of 2035 Revenue = 68567.31\n",
      "95th Percentile of 2035 Revenue = 101365.69\n",
      "5th Percentile of 2035 Revenue = 9033.21\n",
      "15th Percentile of 2035 Revenue = 15535.82\n",
      "25th Percentile of 2035 Revenue = 20795.79\n",
      "101365.68634\n",
      "68567.3071847\n",
      "54197.1510058\n",
      "20795.7881739\n",
      "15535.8241283\n",
      "9033.20589693\n"
     ]
    }
   ],
   "source": [
    "year = 2035\n",
    "cum_prob = pd.DataFrame({'Revenue': output[:,0], 'Cumulative Probability': np.cumsum(output[:,1])})\n",
    "\n",
    "# P(Revenue < r) = percentile -> Find r\n",
    "# 75+\n",
    "percentile_75 = cum_prob['Revenue'][cum_prob[cum_prob['Cumulative Probability'] <= 0.75].shape[0]]\n",
    "percentile_85 = cum_prob['Revenue'][cum_prob[cum_prob['Cumulative Probability'] <= 0.85].shape[0]]\n",
    "percentile_95 = cum_prob['Revenue'][cum_prob[cum_prob['Cumulative Probability'] <= 0.95].shape[0]]\n",
    "# 25-\n",
    "percentile_05 = cum_prob['Revenue'][cum_prob[cum_prob['Cumulative Probability'] <= 0.05].shape[0]]\n",
    "percentile_15 = cum_prob['Revenue'][cum_prob[cum_prob['Cumulative Probability'] <= 0.15].shape[0]]\n",
    "percentile_25 = cum_prob['Revenue'][cum_prob[cum_prob['Cumulative Probability'] <= 0.25].shape[0]]\n",
    "\n",
    "# Print values\n",
    "print '75th Percentile of ' + str(year) + ' Revenue = %0.2f' % percentile_75\n",
    "print '85th Percentile of ' + str(year) + ' Revenue = %0.2f' % percentile_85\n",
    "print '95th Percentile of ' + str(year) + ' Revenue = %0.2f' % percentile_95\n",
    "\n",
    "print '5th Percentile of ' + str(year) + ' Revenue = %0.2f' % percentile_05\n",
    "print '15th Percentile of ' + str(year) + ' Revenue = %0.2f' % percentile_15\n",
    "print '25th Percentile of ' + str(year) + ' Revenue = %0.2f' % percentile_25\n",
    "\n",
    "print percentile_95\n",
    "print percentile_85\n",
    "print percentile_75\n",
    "print percentile_25\n",
    "print percentile_15\n",
    "print percentile_05"
   ]
  }
 ],
 "metadata": {
  "kernelspec": {
   "display_name": "Python 2",
   "language": "python",
   "name": "python2"
  },
  "language_info": {
   "codemirror_mode": {
    "name": "ipython",
    "version": 2
   },
   "file_extension": ".py",
   "mimetype": "text/x-python",
   "name": "python",
   "nbconvert_exporter": "python",
   "pygments_lexer": "ipython2",
   "version": "2.7.11"
  }
 },
 "nbformat": 4,
 "nbformat_minor": 0
}
